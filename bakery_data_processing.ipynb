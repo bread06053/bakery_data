{
 "cells": [
  {
   "cell_type": "markdown",
   "id": "0ec823b1-3b39-4495-a2de-cd2870878f37",
   "metadata": {},
   "source": [
    "# 1. 데이터 로드\n"
   ]
  },
  {
   "cell_type": "code",
   "execution_count": 2,
   "id": "a54271a6-f2c2-4f69-93c7-99d71a2d702f",
   "metadata": {},
   "outputs": [],
   "source": [
    "# 데이터 로드\n",
    "import pandas as pd\n",
    "import numpy as np\n",
    "# 데이터 불러오기 (불필요한 인덱스 컬럼 제거)\n",
    "sales_df = pd.read_csv('Bakery sales.csv', index_col=0)"
   ]
  },
  {
   "cell_type": "markdown",
   "id": "969bfe1e-c390-4a61-9103-ee8a9b1459b3",
   "metadata": {},
   "source": [
    "## 2. 데이터 전처리\n"
   ]
  },
  {
   "cell_type": "markdown",
   "id": "4e5a7c46-1bdb-4970-9476-5c9e8e545c2a",
   "metadata": {},
   "source": [
    "###    2.1 데이터 분석에 필요한 컬럼 추가\n"
   ]
  },
  {
   "cell_type": "code",
   "execution_count": 5,
   "id": "a5e9cf25-5ce0-456b-8898-1ce7533e3d08",
   "metadata": {},
   "outputs": [],
   "source": [
    "# 날짜 컬럼을 datetime 형식으로 변환\n",
    "sales_df['date'] = pd.to_datetime(sales_df['date'])"
   ]
  },
  {
   "cell_type": "code",
   "execution_count": 6,
   "id": "90e0af06-8dd8-450a-9b5d-e7e065786603",
   "metadata": {},
   "outputs": [],
   "source": [
    "# 'time' 컬럼에서 시(hour) 정보 추출 (시간대별 분석을 위해 추가)\n",
    "sales_df['hour'] = pd.to_datetime(sales_df['time'] + ':00', format='%H:%M:%S').dt.hour"
   ]
  },
  {
   "cell_type": "code",
   "execution_count": 7,
   "id": "eb27ca24-f8b8-495a-b9e8-03aab4e1f614",
   "metadata": {},
   "outputs": [],
   "source": [
    "# 시간대 컬럼 추가 (08 ~ 11시 : 아침, 11 ~ 14시 : 점심, 14시 이후 : 오후)\n",
    "sales_df['part_of_day'] = np.where(\n",
    "    sales_df['hour'] < 11, '아침',\n",
    "    np.where(sales_df['hour'] < 14, '점심', '오후')\n",
    ")"
   ]
  },
  {
   "cell_type": "code",
   "execution_count": 8,
   "id": "fb460aa4-dcd5-471f-97bc-c4b3aa2e8200",
   "metadata": {},
   "outputs": [],
   "source": [
    "# sale 데이터 셋의 개별 가격의 데이터 전처리\n",
    "sales_df['unit_price']=sales_df['unit_price'].str.strip('€')\n",
    "sales_df['unit_price']=sales_df['unit_price'].replace(',','.',regex=True)\n",
    "sales_df['unit_price']=sales_df['unit_price'].astype('float64')"
   ]
  },
  {
   "cell_type": "code",
   "execution_count": 9,
   "id": "14e1b89f-b3f3-4507-9955-8e7b28c3b580",
   "metadata": {},
   "outputs": [],
   "source": [
    "# 각 제품 주문 별 주문가격(개별가격 * 수량) 컬럼 추가\n",
    "sales_df['total_price']=sales_df['unit_price']*sales_df['Quantity']"
   ]
  },
  {
   "cell_type": "code",
   "execution_count": 10,
   "id": "06ccf614-ac8c-4b0c-a42e-65405972f1c2",
   "metadata": {},
   "outputs": [],
   "source": [
    "# 요일 별 판매량 분석을 위한 전처리 (0: 월 ~ 6: 일)\n",
    "sales_df['weekday'] = sales_df['date'].dt.weekday"
   ]
  },
  {
   "cell_type": "code",
   "execution_count": 11,
   "id": "793158be-6e64-40d2-94da-10aff4112c09",
   "metadata": {},
   "outputs": [],
   "source": [
    "# 공휴일 분류를 위한 컬럼 추가\n",
    "sales_df['month_day']=sales_df['date'].dt.strftime('%m-%d')"
   ]
  },
  {
   "cell_type": "markdown",
   "id": "fe5ebe2d-6d9a-4281-a535-81729d56d77f",
   "metadata": {},
   "source": [
    "###    2.2환불 데이터 전처리"
   ]
  },
  {
   "cell_type": "code",
   "execution_count": 13,
   "id": "771aaa5c-215f-43ee-8697-45ab7b7025fa",
   "metadata": {},
   "outputs": [],
   "source": [
    "# 환불 데이터 전처리에 필요한 index컬럼 추가\n",
    "sales_df=sales_df.reset_index()"
   ]
  },
  {
   "cell_type": "code",
   "execution_count": 14,
   "id": "77fccdec-064b-4fb8-ba40-bf05ce1b4073",
   "metadata": {},
   "outputs": [],
   "source": [
    "# refund_data 에 환불 내역 저장         #1295건\n",
    "refund_data=sales_df[sales_df['Quantity']<=0]"
   ]
  },
  {
   "cell_type": "code",
   "execution_count": 15,
   "id": "3d1b5288-d98e-4e52-bc5d-2f781f6e1489",
   "metadata": {},
   "outputs": [],
   "source": [
    "# 환불 데이터를 기준으로 구매 데이터와 병합\n",
    "merged_data = pd.merge(sales_df[sales_df['Quantity'] >= 0], refund_data, on=['date','article'], how='inner', suffixes=('', '_refund'))"
   ]
  },
  {
   "cell_type": "code",
   "execution_count": 16,
   "id": "4018836b-611f-4f75-a12b-1a399d35adbf",
   "metadata": {},
   "outputs": [],
   "source": [
    "# 병합된 데이터에서 환불 시간대보다 구매 시간대가 적거나 같고, 구매 금액과 환불금액이 같은 데이터를 refund 컬럼에서 1로 출력\n",
    "merged_data['refund'] = np.where((merged_data['hour'] <= merged_data['hour_refund'])&(merged_data['total_price']==abs(merged_data['total_price_refund'])), 1, 0)"
   ]
  },
  {
   "cell_type": "code",
   "execution_count": 17,
   "id": "27c1a73e-9074-4b2d-a696-cda34cff5c72",
   "metadata": {},
   "outputs": [],
   "source": [
    "# refund 컬럼 값이 1인 데이터만 저장\n",
    "merged_data=merged_data[merged_data['refund']==1]"
   ]
  },
  {
   "cell_type": "code",
   "execution_count": 18,
   "id": "f1e1358b-0a23-4767-a69e-3ff023850f72",
   "metadata": {},
   "outputs": [],
   "source": [
    "# 데이터를 주문번호순으로 정렬 후 index와 index_refund 중복값 제거 \n",
    "merged_unique_refund=merged_data.sort_values('ticket_number_refund').drop_duplicates(subset='index', keep='first').drop_duplicates(subset='index_refund', keep='last')"
   ]
  },
  {
   "cell_type": "code",
   "execution_count": 19,
   "id": "879ac383-265c-4109-86f6-03dd64125721",
   "metadata": {},
   "outputs": [],
   "source": [
    "# 구매데이터와 환불 데이터 index를 list 형태로 저장\n",
    "refund_data_list = np.concatenate([merged_unique_refund['index'], merged_unique_refund['index_refund']])"
   ]
  },
  {
   "cell_type": "code",
   "execution_count": 20,
   "id": "b3fcfaa8-f6fc-4d1b-bec8-fbc4e4491d8a",
   "metadata": {},
   "outputs": [],
   "source": [
    "# 전처리를 한번더 진행하기 위해서 우선 구매와 환불이 일치하는 데이터들은 기존 데이터 셋에서 삭제\n",
    "sale=sales_df[~sales_df['index'].isin(refund_data_list)]\n",
    "refund1=sales_df[sales_df['index'].isin(refund_data_list)]"
   ]
  },
  {
   "cell_type": "code",
   "execution_count": 21,
   "id": "bd373947-33fd-4577-a2fa-7e15c1a5f406",
   "metadata": {},
   "outputs": [],
   "source": [
    "# 남은 환불 데이터 건을 refund_data2에 저장\n",
    "refund_data2=sale[sale['Quantity']<=0]"
   ]
  },
  {
   "cell_type": "code",
   "execution_count": 22,
   "id": "c9d4a8a2-3d77-4784-8a5a-176e296742e3",
   "metadata": {},
   "outputs": [],
   "source": [
    "# 환불 데이터를 기준으로 구매 데이터와 병합\n",
    "merged_data2 = pd.merge(sale[sale['Quantity'] >= 0], refund_data2, on=['date','article'], how='inner', suffixes=('', '_refund'))"
   ]
  },
  {
   "cell_type": "code",
   "execution_count": 23,
   "id": "43bc13b4-531f-4c19-bb94-b89c58079af2",
   "metadata": {},
   "outputs": [],
   "source": [
    "# 병합된 데이터에서 환불 시간대보다 구매 시간대가 적거나 같고, 구매 금액과 환불금액이 같은 데이터를 refund 컬럼에서 1로 출력\n",
    "merged_data2['refund'] = np.where((merged_data2['hour'] <= merged_data2['hour_refund'])&(merged_data2['total_price']==abs(merged_data2['total_price_refund'])), 1, 0)"
   ]
  },
  {
   "cell_type": "code",
   "execution_count": 24,
   "id": "c88458ad-bf79-4b8e-84b9-26993164f4c9",
   "metadata": {},
   "outputs": [],
   "source": [
    "# refund 컬럼값이 1인 데이터만 저장\n",
    "merged_data2=merged_data2[merged_data2['refund']==1]"
   ]
  },
  {
   "cell_type": "code",
   "execution_count": 25,
   "id": "e125d718-6f37-46ad-8087-679bdbaeff84",
   "metadata": {},
   "outputs": [],
   "source": [
    "#  데이터를 주문번호순으로 정렬후 index와 index_refund 중복값 제거 \n",
    "merged_unique_refund2=merged_data2.sort_values('ticket_number_refund').drop_duplicates(subset='index', keep='first').drop_duplicates(subset='index_refund', keep='last')"
   ]
  },
  {
   "cell_type": "code",
   "execution_count": 26,
   "id": "cf269262-3f50-4a3a-aee5-3f7c4e816f26",
   "metadata": {},
   "outputs": [],
   "source": [
    "# 구매데이터와 환불 데이터 index를 list 형태로 저장\n",
    "refund_data_list2 = np.concatenate([merged_unique_refund2['index'], merged_unique_refund2['index_refund']])\n"
   ]
  },
  {
   "cell_type": "code",
   "execution_count": 27,
   "id": "cfd225d1-a1f5-4130-93f3-23b4c07fa90f",
   "metadata": {},
   "outputs": [],
   "source": [
    "sale2=sale[~sale['index'].isin(refund_data_list2)]\n",
    "refund2=sale[sale['index'].isin(refund_data_list2)]"
   ]
  },
  {
   "cell_type": "code",
   "execution_count": 28,
   "id": "ee079f11-fe54-434e-8b0c-c4a226637dc7",
   "metadata": {},
   "outputs": [],
   "source": [
    "# 환불 데이터 삭제시 사용하였던 인덱스 컬럼 삭제\n",
    "sale_df=sale2.drop(columns='index',axis=1)"
   ]
  },
  {
   "cell_type": "markdown",
   "id": "1d52f109-2705-4616-8dbc-7c71a56d91cb",
   "metadata": {},
   "source": [
    "###    2.3 매출이 저조한 제품 전처리"
   ]
  },
  {
   "cell_type": "code",
   "execution_count": 34,
   "id": "ca12ed5c-7646-4c67-a568-2e651e873802",
   "metadata": {},
   "outputs": [],
   "source": [
    "sale_rate=sale_df.groupby('article',as_index=False)\\\n",
    ".agg(total_order=('Quantity','sum')).sort_values('total_order',ascending=False)"
   ]
  },
  {
   "cell_type": "code",
   "execution_count": 35,
   "id": "aa441c5b-69b3-41d9-862e-7425eb739bab",
   "metadata": {},
   "outputs": [],
   "source": [
    "# 파레토 법칙을 적용하여 누적 비율 상위 80% 이외의 제품 전처리\n",
    "sale_rate['rate']=(sale_rate['total_order']/sum(sale_rate['total_order']) )*100\n",
    "pareto=sale_rate.head(16)"
   ]
  },
  {
   "cell_type": "code",
   "execution_count": 39,
   "id": "234a3948-c5a8-41d3-9809-b2a13d341655",
   "metadata": {},
   "outputs": [],
   "source": [
    "sale_df=sale_df[sale_df['article'].isin(pareto['article'])]"
   ]
  },
  {
   "cell_type": "markdown",
   "id": "255dc770-1fbf-4c24-bd43-e4c7588e7d2e",
   "metadata": {},
   "source": [
    "###    2.4 공휴일 데이터 전처리\n"
   ]
  },
  {
   "cell_type": "markdown",
   "id": "6cf1eb4f-4547-433f-9a99-fc8ad938a2b0",
   "metadata": {},
   "source": [
    "#### 프랑스 국가 공휴일 리스트\n",
    "01-01 신정 (휴무)<br>\n",
    "05-01 노동절 (1시까지 영업)<br>\n",
    "05-08 승전의 날 (1시까지 영업)<br>\n",
    "05-09 예수 승천의날 (1시까지 영업)<br>\n",
    "05-20 성모 강림의 날 (휴무)<br>\n",
    "07-14 혁명 기념일 (1시까지 영업)<br>\n",
    "08-15 성모 승천의 날 (1시까지 영업) <br>\n",
    "11-01 만성절 (2시까지 영업)<br>\n",
    "11-11 휴전의 날(2시까지 영업)<br>\n",
    "12-25 크리스마스 (1시까지 영업)<br>\n",
    "12-26 성 스테판의 날 (1시까지 영업)<br>"
   ]
  },
  {
   "cell_type": "code",
   "execution_count": 74,
   "id": "4f09a76e-0e71-4e85-9b2e-d33fa041a07e",
   "metadata": {},
   "outputs": [],
   "source": [
    "# 공휴일 리스트 작성\n",
    "holiday_list=['01-01','05-01','05-08','05-09','05-20','07-14','08-15','11-01','11-11','12-25','12-26']\n",
    "# renewal 데이터 셋 복사\n",
    "holiday_sale=sale_df.copy()\n",
    "# 공휴일 데이터 구분을 위한 임시 컬럼 추가\n",
    "holiday_sale['month_day']=holiday_sale['date'].dt.strftime('%m-%d')\n",
    "holiday_sale['holiday']=np.where(holiday_sale['month_day'].isin(holiday_list),1,0)"
   ]
  },
  {
   "cell_type": "code",
   "execution_count": 76,
   "id": "1d1c67fa-8ab4-4938-ba25-5c6bf7b07bd5",
   "metadata": {},
   "outputs": [],
   "source": [
    "holiday_data=holiday_sale[holiday_sale['holiday']==1]\n",
    "sevenday_data=holiday_sale[holiday_sale['holiday']==0]"
   ]
  },
  {
   "cell_type": "code",
   "execution_count": 78,
   "id": "5637931f-b801-403a-9898-0bac350bfef8",
   "metadata": {},
   "outputs": [],
   "source": [
    "# 일요일 데이터를 holiday_data에 포함시키기\n",
    "sunday_data = sevenday_data[sevenday_data['weekday'] == 6]  # 일요일은 요일 코드가 6\n",
    "sixday_data = sevenday_data[sevenday_data['weekday'] != 6]  # 일요일 제거\n",
    "holiday_data = pd.concat([holiday_data, sunday_data], ignore_index=True)"
   ]
  },
  {
   "cell_type": "code",
   "execution_count": 80,
   "id": "795bb9a6-dd2f-443a-9f41-f57dd1f9e556",
   "metadata": {},
   "outputs": [],
   "source": [
    "sixday_sales_df=sixday_data.drop(columns='holiday')\n",
    "weekly_sales_df=sevenday_data.drop(columns='holiday')\n",
    "holiday_sales_df=holiday_data.drop(columns='holiday')"
   ]
  },
  {
   "cell_type": "code",
   "execution_count": 82,
   "id": "b6ad6079-239e-4619-b07a-d73cdec0f604",
   "metadata": {},
   "outputs": [],
   "source": [
    "# 월 ~ 토요일 데이터 세트 생성\n",
    "sixday_sales_df.to_csv(\"C:/easy_python/bakery/sixday_sales_df.csv\", index=False)\n",
    "# 월 ~ 일요일 데이터 세트 생성\n",
    "weekly_sales_df.to_csv(\"C:/easy_python/bakery/weekly_sales_df.csv\", index=False)\n",
    "# 일 + 공휴일 데이터 세트 생서\n",
    "holiday_sales_df.to_csv(\"C:/easy_python/bakery/holiday_sales_df.csv\", index=False)"
   ]
  },
  {
   "cell_type": "code",
   "execution_count": 84,
   "id": "849bc1a6-2b1b-4446-aa74-9613f5c4a386",
   "metadata": {},
   "outputs": [
    {
     "data": {
      "text/plain": [
       "array(['BAGUETTE', 'PAIN AU CHOCOLAT', 'TRADITIONAL BAGUETTE',\n",
       "       'CROISSANT', 'BANETTE', 'SPECIAL BREAD', 'COUPE', 'BOULE 400G',\n",
       "       'CAMPAGNE', 'CEREAL BAGUETTE', 'COMPLET', 'COOKIE', 'VIK BREAD',\n",
       "       'FORMULE SANDWICH', 'TARTELETTE', 'ECLAIR'], dtype=object)"
      ]
     },
     "execution_count": 84,
     "metadata": {},
     "output_type": "execute_result"
    }
   ],
   "source": [
    "holiday_sale['article'].unique()"
   ]
  },
  {
   "cell_type": "code",
   "execution_count": null,
   "id": "38aeacae-4212-4dca-bb0c-12e843d2dc63",
   "metadata": {},
   "outputs": [],
   "source": []
  },
  {
   "cell_type": "code",
   "execution_count": null,
   "id": "e9f3c73b-9396-4497-963b-f596104fe495",
   "metadata": {},
   "outputs": [],
   "source": []
  },
  {
   "cell_type": "code",
   "execution_count": null,
   "id": "6435c973-4580-45c3-9231-41c149b42a44",
   "metadata": {},
   "outputs": [],
   "source": []
  },
  {
   "cell_type": "code",
   "execution_count": null,
   "id": "b78b2ffa-9d44-482c-8561-aa13b0609291",
   "metadata": {},
   "outputs": [],
   "source": []
  },
  {
   "cell_type": "code",
   "execution_count": null,
   "id": "972a6244-d5b3-41e0-89b2-0bfe37e2a521",
   "metadata": {},
   "outputs": [],
   "source": []
  },
  {
   "cell_type": "code",
   "execution_count": null,
   "id": "613ef6a2-c739-4570-97f0-5254d84d855b",
   "metadata": {},
   "outputs": [],
   "source": []
  },
  {
   "cell_type": "code",
   "execution_count": null,
   "id": "414e35df-e6a1-4b04-96c2-cd28615776e4",
   "metadata": {},
   "outputs": [],
   "source": []
  }
 ],
 "metadata": {
  "kernelspec": {
   "display_name": "Python 3 (ipykernel)",
   "language": "python",
   "name": "python3"
  },
  "language_info": {
   "codemirror_mode": {
    "name": "ipython",
    "version": 3
   },
   "file_extension": ".py",
   "mimetype": "text/x-python",
   "name": "python",
   "nbconvert_exporter": "python",
   "pygments_lexer": "ipython3",
   "version": "3.12.7"
  }
 },
 "nbformat": 4,
 "nbformat_minor": 5
}
